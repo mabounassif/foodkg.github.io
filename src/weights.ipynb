{
 "cells": [
  {
   "cell_type": "code",
   "execution_count": 17,
   "metadata": {},
   "outputs": [
    {
     "name": "stdout",
     "output_type": "stream",
     "text": [
      "Defaulting to user installation because normal site-packages is not writeable\n",
      "Requirement already satisfied: pandas in /home/vscode/.local/lib/python3.8/site-packages (2.0.3)\n",
      "Requirement already satisfied: tzdata>=2022.1 in /home/vscode/.local/lib/python3.8/site-packages (from pandas) (2024.1)\n",
      "Requirement already satisfied: numpy>=1.20.3 in /home/vscode/.local/lib/python3.8/site-packages (from pandas) (1.24.4)\n",
      "Requirement already satisfied: python-dateutil>=2.8.2 in /home/vscode/.local/lib/python3.8/site-packages (from pandas) (2.9.0.post0)\n",
      "Requirement already satisfied: pytz>=2020.1 in /home/vscode/.local/lib/python3.8/site-packages (from pandas) (2024.1)\n",
      "Requirement already satisfied: six>=1.5 in /home/vscode/.local/lib/python3.8/site-packages (from python-dateutil>=2.8.2->pandas) (1.16.0)\n",
      "\n",
      "\u001b[1m[\u001b[0m\u001b[34;49mnotice\u001b[0m\u001b[1;39;49m]\u001b[0m\u001b[39;49m A new release of pip is available: \u001b[0m\u001b[31;49m23.0.1\u001b[0m\u001b[39;49m -> \u001b[0m\u001b[32;49m24.0\u001b[0m\n",
      "\u001b[1m[\u001b[0m\u001b[34;49mnotice\u001b[0m\u001b[1;39;49m]\u001b[0m\u001b[39;49m To update, run: \u001b[0m\u001b[32;49mpip install --upgrade pip\u001b[0m\n"
     ]
    }
   ],
   "source": [
    "!pip install pandas"
   ]
  },
  {
   "cell_type": "code",
   "execution_count": 18,
   "metadata": {},
   "outputs": [],
   "source": [
    "import pandas as pd"
   ]
  },
  {
   "cell_type": "code",
   "execution_count": 19,
   "metadata": {},
   "outputs": [],
   "source": [
    "df = pd.read_csv('WEIGHT.csv', delimiter='^', header=None)"
   ]
  },
  {
   "cell_type": "code",
   "execution_count": 20,
   "metadata": {},
   "outputs": [],
   "source": [
    "df.columns = [\"NDB_No\", \"Seq\", \"Amount\", \"Msre_Desc\", \"Gm_Wgt\", \"Num_Data_Pts\", \"Std_Dev\"]"
   ]
  },
  {
   "cell_type": "code",
   "execution_count": 21,
   "metadata": {},
   "outputs": [
    {
     "data": {
      "text/html": [
       "<div>\n",
       "<style scoped>\n",
       "    .dataframe tbody tr th:only-of-type {\n",
       "        vertical-align: middle;\n",
       "    }\n",
       "\n",
       "    .dataframe tbody tr th {\n",
       "        vertical-align: top;\n",
       "    }\n",
       "\n",
       "    .dataframe thead th {\n",
       "        text-align: right;\n",
       "    }\n",
       "</style>\n",
       "<table border=\"1\" class=\"dataframe\">\n",
       "  <thead>\n",
       "    <tr style=\"text-align: right;\">\n",
       "      <th></th>\n",
       "      <th>NDB_No</th>\n",
       "      <th>Seq</th>\n",
       "      <th>Amount</th>\n",
       "      <th>Msre_Desc</th>\n",
       "      <th>Gm_Wgt</th>\n",
       "      <th>Num_Data_Pts</th>\n",
       "      <th>Std_Dev</th>\n",
       "    </tr>\n",
       "  </thead>\n",
       "  <tbody>\n",
       "    <tr>\n",
       "      <th>0</th>\n",
       "      <td>1001</td>\n",
       "      <td>1</td>\n",
       "      <td>1.0</td>\n",
       "      <td>pat (1\" sq, 1/3\" high)</td>\n",
       "      <td>5.0</td>\n",
       "      <td>NaN</td>\n",
       "      <td>NaN</td>\n",
       "    </tr>\n",
       "    <tr>\n",
       "      <th>1</th>\n",
       "      <td>1001</td>\n",
       "      <td>2</td>\n",
       "      <td>1.0</td>\n",
       "      <td>tbsp</td>\n",
       "      <td>14.2</td>\n",
       "      <td>NaN</td>\n",
       "      <td>NaN</td>\n",
       "    </tr>\n",
       "    <tr>\n",
       "      <th>2</th>\n",
       "      <td>1001</td>\n",
       "      <td>3</td>\n",
       "      <td>1.0</td>\n",
       "      <td>cup</td>\n",
       "      <td>227.0</td>\n",
       "      <td>NaN</td>\n",
       "      <td>NaN</td>\n",
       "    </tr>\n",
       "    <tr>\n",
       "      <th>3</th>\n",
       "      <td>1001</td>\n",
       "      <td>4</td>\n",
       "      <td>1.0</td>\n",
       "      <td>stick</td>\n",
       "      <td>113.0</td>\n",
       "      <td>NaN</td>\n",
       "      <td>NaN</td>\n",
       "    </tr>\n",
       "    <tr>\n",
       "      <th>4</th>\n",
       "      <td>1002</td>\n",
       "      <td>1</td>\n",
       "      <td>1.0</td>\n",
       "      <td>pat (1\" sq, 1/3\" high)</td>\n",
       "      <td>3.8</td>\n",
       "      <td>NaN</td>\n",
       "      <td>NaN</td>\n",
       "    </tr>\n",
       "  </tbody>\n",
       "</table>\n",
       "</div>"
      ],
      "text/plain": [
       "   NDB_No  Seq  Amount               Msre_Desc  Gm_Wgt  Num_Data_Pts  Std_Dev\n",
       "0    1001    1     1.0  pat (1\" sq, 1/3\" high)     5.0           NaN      NaN\n",
       "1    1001    2     1.0                    tbsp    14.2           NaN      NaN\n",
       "2    1001    3     1.0                     cup   227.0           NaN      NaN\n",
       "3    1001    4     1.0                   stick   113.0           NaN      NaN\n",
       "4    1002    1     1.0  pat (1\" sq, 1/3\" high)     3.8           NaN      NaN"
      ]
     },
     "execution_count": 21,
     "metadata": {},
     "output_type": "execute_result"
    }
   ],
   "source": [
    "df.head()"
   ]
  },
  {
   "cell_type": "code",
   "execution_count": 28,
   "metadata": {},
   "outputs": [],
   "source": [
    "df = df.groupby(\"NDB_No\").aggregate(lambda x: tuple(x))"
   ]
  },
  {
   "cell_type": "code",
   "execution_count": 29,
   "metadata": {},
   "outputs": [
    {
     "data": {
      "text/html": [
       "<div>\n",
       "<style scoped>\n",
       "    .dataframe tbody tr th:only-of-type {\n",
       "        vertical-align: middle;\n",
       "    }\n",
       "\n",
       "    .dataframe tbody tr th {\n",
       "        vertical-align: top;\n",
       "    }\n",
       "\n",
       "    .dataframe thead th {\n",
       "        text-align: right;\n",
       "    }\n",
       "</style>\n",
       "<table border=\"1\" class=\"dataframe\">\n",
       "  <thead>\n",
       "    <tr style=\"text-align: right;\">\n",
       "      <th></th>\n",
       "      <th>Seq</th>\n",
       "      <th>Amount</th>\n",
       "      <th>Msre_Desc</th>\n",
       "      <th>Gm_Wgt</th>\n",
       "      <th>Num_Data_Pts</th>\n",
       "      <th>Std_Dev</th>\n",
       "    </tr>\n",
       "    <tr>\n",
       "      <th>NDB_No</th>\n",
       "      <th></th>\n",
       "      <th></th>\n",
       "      <th></th>\n",
       "      <th></th>\n",
       "      <th></th>\n",
       "      <th></th>\n",
       "    </tr>\n",
       "  </thead>\n",
       "  <tbody>\n",
       "    <tr>\n",
       "      <th>1001</th>\n",
       "      <td>(1, 2, 3, 4)</td>\n",
       "      <td>(1.0, 1.0, 1.0, 1.0)</td>\n",
       "      <td>(pat (1\" sq, 1/3\" high), tbsp, cup, stick)</td>\n",
       "      <td>(5.0, 14.2, 227.0, 113.0)</td>\n",
       "      <td>(nan, nan, nan, nan)</td>\n",
       "      <td>(nan, nan, nan, nan)</td>\n",
       "    </tr>\n",
       "    <tr>\n",
       "      <th>1002</th>\n",
       "      <td>(1, 2, 3, 4)</td>\n",
       "      <td>(1.0, 1.0, 1.0, 1.0)</td>\n",
       "      <td>(pat (1\" sq, 1/3\" high), tbsp, cup, stick)</td>\n",
       "      <td>(3.8, 9.4, 151.0, 76.0)</td>\n",
       "      <td>(nan, nan, nan, nan)</td>\n",
       "      <td>(nan, nan, nan, nan)</td>\n",
       "    </tr>\n",
       "    <tr>\n",
       "      <th>1003</th>\n",
       "      <td>(1, 2)</td>\n",
       "      <td>(1.0, 1.0)</td>\n",
       "      <td>(tbsp, cup)</td>\n",
       "      <td>(12.8, 205.0)</td>\n",
       "      <td>(nan, nan)</td>\n",
       "      <td>(nan, nan)</td>\n",
       "    </tr>\n",
       "    <tr>\n",
       "      <th>1004</th>\n",
       "      <td>(1, 2, 3)</td>\n",
       "      <td>(1.0, 1.0, 1.0)</td>\n",
       "      <td>(oz, cubic inch, cup, crumbled, not packed)</td>\n",
       "      <td>(28.35, 17.0, 135.0)</td>\n",
       "      <td>(nan, nan, nan)</td>\n",
       "      <td>(nan, nan, nan)</td>\n",
       "    </tr>\n",
       "    <tr>\n",
       "      <th>1005</th>\n",
       "      <td>(1, 2, 3, 4, 5)</td>\n",
       "      <td>(1.0, 1.0, 1.0, 1.0, 1.0)</td>\n",
       "      <td>(cup, diced, cup, shredded, oz, cubic inch, sl...</td>\n",
       "      <td>(132.0, 113.0, 28.35, 17.0, 28.0)</td>\n",
       "      <td>(nan, nan, nan, nan, nan)</td>\n",
       "      <td>(nan, nan, nan, nan, nan)</td>\n",
       "    </tr>\n",
       "  </tbody>\n",
       "</table>\n",
       "</div>"
      ],
      "text/plain": [
       "                    Seq                     Amount  \\\n",
       "NDB_No                                               \n",
       "1001       (1, 2, 3, 4)       (1.0, 1.0, 1.0, 1.0)   \n",
       "1002       (1, 2, 3, 4)       (1.0, 1.0, 1.0, 1.0)   \n",
       "1003             (1, 2)                 (1.0, 1.0)   \n",
       "1004          (1, 2, 3)            (1.0, 1.0, 1.0)   \n",
       "1005    (1, 2, 3, 4, 5)  (1.0, 1.0, 1.0, 1.0, 1.0)   \n",
       "\n",
       "                                                Msre_Desc  \\\n",
       "NDB_No                                                      \n",
       "1001           (pat (1\" sq, 1/3\" high), tbsp, cup, stick)   \n",
       "1002           (pat (1\" sq, 1/3\" high), tbsp, cup, stick)   \n",
       "1003                                          (tbsp, cup)   \n",
       "1004          (oz, cubic inch, cup, crumbled, not packed)   \n",
       "1005    (cup, diced, cup, shredded, oz, cubic inch, sl...   \n",
       "\n",
       "                                   Gm_Wgt               Num_Data_Pts  \\\n",
       "NDB_No                                                                 \n",
       "1001            (5.0, 14.2, 227.0, 113.0)       (nan, nan, nan, nan)   \n",
       "1002              (3.8, 9.4, 151.0, 76.0)       (nan, nan, nan, nan)   \n",
       "1003                        (12.8, 205.0)                 (nan, nan)   \n",
       "1004                 (28.35, 17.0, 135.0)            (nan, nan, nan)   \n",
       "1005    (132.0, 113.0, 28.35, 17.0, 28.0)  (nan, nan, nan, nan, nan)   \n",
       "\n",
       "                          Std_Dev  \n",
       "NDB_No                             \n",
       "1001         (nan, nan, nan, nan)  \n",
       "1002         (nan, nan, nan, nan)  \n",
       "1003                   (nan, nan)  \n",
       "1004              (nan, nan, nan)  \n",
       "1005    (nan, nan, nan, nan, nan)  "
      ]
     },
     "execution_count": 29,
     "metadata": {},
     "output_type": "execute_result"
    }
   ],
   "source": [
    "df.head()"
   ]
  },
  {
   "cell_type": "code",
   "execution_count": 33,
   "metadata": {},
   "outputs": [],
   "source": [
    "df_desc = pd.DataFrame([pd.Series(x) for x in df[\"Msre_Desc\"]])\n",
    "df_desc.columns = ['Msre_Desc_{}'.format(x+1) for x in df_desc.columns]"
   ]
  },
  {
   "cell_type": "code",
   "execution_count": 35,
   "metadata": {},
   "outputs": [],
   "source": [
    "df_amount = pd.DataFrame([pd.Series(x) for x in df[\"Amount\"]])\n",
    "df_amount.columns = ['Amount_{}'.format(x+1) for x in df_amount.columns]"
   ]
  },
  {
   "cell_type": "code",
   "execution_count": null,
   "metadata": {},
   "outputs": [],
   "source": [
    "df_gm_wgt = pd.DataFrame([pd.Series(x) for x in df[\"Gm_Wgt\"]])\n",
    "df_gm_wgt.columns = ['Gm_Wgt_{}'.format(x+1) for x in df_gm_wgt.columns]"
   ]
  }
 ],
 "metadata": {
  "kernelspec": {
   "display_name": "Python 3",
   "language": "python",
   "name": "python3"
  },
  "language_info": {
   "codemirror_mode": {
    "name": "ipython",
    "version": 3
   },
   "file_extension": ".py",
   "mimetype": "text/x-python",
   "name": "python",
   "nbconvert_exporter": "python",
   "pygments_lexer": "ipython3",
   "version": "3.8.17"
  }
 },
 "nbformat": 4,
 "nbformat_minor": 2
}
